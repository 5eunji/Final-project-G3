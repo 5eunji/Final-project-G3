{
  "nbformat": 4,
  "nbformat_minor": 0,
  "metadata": {
    "colab": {
      "private_outputs": true,
      "provenance": [],
      "gpuType": "T4",
      "include_colab_link": true
    },
    "kernelspec": {
      "name": "python3",
      "display_name": "Python 3"
    },
    "language_info": {
      "name": "python"
    },
    "accelerator": "GPU"
  },
  "cells": [
    {
      "cell_type": "markdown",
      "metadata": {
        "id": "view-in-github",
        "colab_type": "text"
      },
      "source": [
        "<a href=\"https://colab.research.google.com/github/5eunji/Final-project-G3/blob/main/TTS_App(2)_%EB%8C%80%ED%99%94.ipynb\" target=\"_parent\"><img src=\"https://colab.research.google.com/assets/colab-badge.svg\" alt=\"Open In Colab\"/></a>"
      ]
    },
    {
      "cell_type": "markdown",
      "source": [
        "# **While-Listening Activity: Dialogue**\n",
        "## 2. Gradio TTS App(대화형)"
      ],
      "metadata": {
        "id": "ALOfAcx5Mho_"
      }
    },
    {
      "cell_type": "code",
      "source": [
        "!pip install gradio\n",
        "def setup():\n",
        "    !pip install gtts\n",
        "    !pip install pydub\n",
        "setup()\n",
        "\n",
        "import gradio as gr\n",
        "from gtts import gTTS\n",
        "from pydub import AudioSegment\n",
        "import os\n",
        "import tempfile\n",
        "\n",
        "# Define the dialogue between Juliet and Romeo\n",
        "dialogues = [\n",
        "    (\"Juliet\", \"Oh, Romeo, Romeo! Where are you, Romeo?\"),\n",
        "    (\"Romeo\", \"Juliet, I am here, standing below your window.\"),\n",
        "    (\"Juliet\", \"Why must our families hate each other? Why can’t we be together?\"),\n",
        "    (\"Romeo\", \"I don’t care about my family’s name. I only care about you, Juliet.\"),\n",
        "    (\"Juliet\", \"If you truly love me, promise to stay with me forever.\"),\n",
        "    (\"Romeo\", \"I promise, my love. I will always be with you, no matter what.\"),\n",
        "    (\"Juliet\", \"Then let’s marry in secret and prove that love can conquer anything.\")\n",
        "]\n",
        "\n",
        "# Function to generate TTS for each dialogue line\n",
        "def save_dialogue_audio():\n",
        "    audio_files_juliet = {}\n",
        "    audio_files_romeo = {}\n",
        "    for i, (speaker, text) in enumerate(dialogues):\n",
        "        if speaker == \"Juliet\":\n",
        "            tld = 'co.uk'  # English voice for Juliet\n",
        "            tts = gTTS(text=text, lang='en', tld=tld, slow=False)\n",
        "        else:\n",
        "            tld = 'com'  # Korean voice for Romeo\n",
        "            tts = gTTS(text=text, lang='ko', slow=False)\n",
        "\n",
        "        # Save audio file for each line\n",
        "        temp_file = tempfile.NamedTemporaryFile(delete=False, suffix=f\"_{speaker}_{i+1}.mp3\")\n",
        "        tts.save(temp_file.name)\n",
        "\n",
        "        if speaker == \"Juliet\":\n",
        "            audio_files_juliet[f\"{i+1}. {text[:30]}...\"] = temp_file.name\n",
        "        else:\n",
        "            audio_files_romeo[f\"{i+1}. {text[:30]}...\"] = temp_file.name\n",
        "\n",
        "    return audio_files_juliet, audio_files_romeo\n",
        "\n",
        "audio_files_juliet, audio_files_romeo = save_dialogue_audio()\n",
        "\n",
        "# Function to get single-line audio\n",
        "def play_audio_juliet(selected_line):\n",
        "    return audio_files_juliet[selected_line]\n",
        "\n",
        "def play_audio_romeo(selected_line):\n",
        "    return audio_files_romeo[selected_line]\n",
        "\n",
        "# Gradio Interface\n",
        "with gr.Blocks() as demo:\n",
        "    gr.Markdown(\"## Romeo and Juliet Dialogue TTS Generator\")\n",
        "\n",
        "    with gr.Row():\n",
        "        with gr.Column():\n",
        "            gr.Markdown(\"### Juliet's Lines\")\n",
        "            dropdown_juliet = gr.Dropdown(\n",
        "                choices=list(audio_files_juliet.keys()),\n",
        "                label=\"Select a Dialogue Line by Juliet\"\n",
        "            )\n",
        "            play_button_juliet = gr.Button(\"Play Juliet's Dialogue\")\n",
        "            audio_output_juliet = gr.Audio(type=\"filepath\", label=\"Juliet's Audio Output\")\n",
        "\n",
        "            play_button_juliet.click(play_audio_juliet, inputs=[dropdown_juliet], outputs=[audio_output_juliet])\n",
        "\n",
        "        with gr.Column():\n",
        "            gr.Markdown(\"### Romeo's Lines\")\n",
        "            dropdown_romeo = gr.Dropdown(\n",
        "                choices=list(audio_files_romeo.keys()),\n",
        "                label=\"Select a Dialogue Line by Romeo\"\n",
        "            )\n",
        "            play_button_romeo = gr.Button(\"Play Romeo's Dialogue\")\n",
        "            audio_output_romeo = gr.Audio(type=\"filepath\", label=\"Romeo's Audio Output\")\n",
        "\n",
        "            play_button_romeo.click(play_audio_romeo, inputs=[dropdown_romeo], outputs=[audio_output_romeo])\n",
        "\n",
        "    gr.Markdown(\"### Note: Juliet's lines are in English and Romeo's lines are in Korean.\")\n",
        "\n",
        "    demo.launch()\n"
      ],
      "metadata": {
        "id": "79bpX-6RQaLl"
      },
      "execution_count": null,
      "outputs": []
    }
  ]
}