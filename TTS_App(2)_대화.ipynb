{
  "nbformat": 4,
  "nbformat_minor": 0,
  "metadata": {
    "colab": {
      "private_outputs": true,
      "provenance": [],
      "gpuType": "T4",
      "include_colab_link": true
    },
    "kernelspec": {
      "name": "python3",
      "display_name": "Python 3"
    },
    "language_info": {
      "name": "python"
    },
    "accelerator": "GPU"
  },
  "cells": [
    {
      "cell_type": "markdown",
      "metadata": {
        "id": "view-in-github",
        "colab_type": "text"
      },
      "source": [
        "<a href=\"https://colab.research.google.com/github/5eunji/Final-project-G3/blob/main/TTS_App(2)_%EB%8C%80%ED%99%94.ipynb\" target=\"_parent\"><img src=\"https://colab.research.google.com/assets/colab-badge.svg\" alt=\"Open In Colab\"/></a>"
      ]
    },
    {
      "cell_type": "markdown",
      "source": [
        "# **While-Listening Activity: Dialogue**\n",
        "## 2. Gradio TTS App(대화형)"
      ],
      "metadata": {
        "id": "ALOfAcx5Mho_"
      }
    },
    {
      "cell_type": "code",
      "source": [
        "!pip install gradio\n",
        "!pip install gtts\n",
        "\n",
        "import gradio as gr\n",
        "from gtts import gTTS\n",
        "import tempfile\n",
        "import os\n",
        "\n",
        "# Define the dialogue between Juliet and Romeo\n",
        "dialogues = [\n",
        "    (\"Juliet\", \"Oh, Romeo, Romeo! Where are you, Romeo?\"),\n",
        "    (\"Romeo\", \"Juliet, I am here, standing below your window.\"),\n",
        "    (\"Juliet\", \"Why must our families hate each other? Why can’t we be together?\"),\n",
        "    (\"Romeo\", \"I don’t care about my family’s name. I only care about you, Juliet.\"),\n",
        "    (\"Juliet\", \"If you truly love me, promise to stay with me forever.\"),\n",
        "    (\"Romeo\", \"I promise, my love. I will always be with you, no matter what.\"),\n",
        "    (\"Juliet\", \"Then let’s marry in secret and prove that love can conquer anything.\")\n",
        "]\n",
        "\n",
        "# Function to generate TTS for the entire dialogue and save as separate files\n",
        "def generate_full_dialogue():\n",
        "    combined_audio_files = []\n",
        "    for i, (speaker, text) in enumerate(dialogues):\n",
        "        # Different voices for Juliet and Romeo\n",
        "        tld = 'co.uk' if speaker == \"Juliet\" else 'com'\n",
        "        tts = gTTS(text=text, lang='en', tld=tld, slow=False)\n",
        "\n",
        "        # Save audio to a temporary file\n",
        "        temp_file = tempfile.NamedTemporaryFile(delete=False, suffix=\".mp3\")\n",
        "        tts.save(temp_file.name)\n",
        "        combined_audio_files.append((speaker, temp_file.name))\n",
        "\n",
        "    return combined_audio_files\n",
        "\n",
        "# Combine all dialogue files into one audio file (optional)\n",
        "def combine_audio_files(audio_files):\n",
        "    from pydub import AudioSegment\n",
        "    combined_audio = AudioSegment.empty()\n",
        "\n",
        "    for speaker, file in audio_files:\n",
        "        audio = AudioSegment.from_file(file)\n",
        "        combined_audio += audio\n",
        "\n",
        "    # Save combined audio\n",
        "    combined_file = tempfile.NamedTemporaryFile(delete=False, suffix=\".mp3\")\n",
        "    combined_audio.export(combined_file.name, format=\"mp3\")\n",
        "    return combined_file.name\n",
        "\n",
        "# Gradio interface for single-line playback and combined playback\n",
        "def get_single_audio(selected_line):\n",
        "    speaker, text = dialogues[int(selected_line.split(\".\")[0]) - 1]\n",
        "    tld = 'co.uk' if speaker == \"Juliet\" else 'com'\n",
        "    tts = gTTS(text=text, lang='en', tld=tld, slow=False)\n",
        "\n",
        "    temp_file = tempfile.NamedTemporaryFile(delete=False, suffix=\".mp3\")\n",
        "    tts.save(temp_file.name)\n",
        "    return temp_file.name, f\"Speaker: {speaker}\\n{text}\"\n",
        "\n",
        "# Gradio interface\n",
        "with gr.Blocks() as demo:\n",
        "    with gr.Row():\n",
        "        gr.Markdown(\"## Romeo and Juliet Dialogue TTS Generator\")\n",
        "\n",
        "    # Single-line TTS playback\n",
        "    with gr.Row():\n",
        "        dropdown_dialogues = gr.Dropdown(\n",
        "            choices=[f\"{i + 1}. {dialogues[i][0]}: {dialogues[i][1][:50]}...\" for i in range(len(dialogues))],\n",
        "            label=\"Select Dialogue Line\"\n",
        "        )\n",
        "        single_line_button = gr.Button(\"Generate TTS for Selected Line\")\n",
        "        single_line_audio = gr.Audio(type=\"filepath\", label=\"Single Line Audio\")\n",
        "        displayed_text = gr.Textbox(label=\"Selected Dialogue\", interactive=False)\n",
        "\n",
        "        single_line_button.click(get_single_audio, inputs=[dropdown_dialogues], outputs=[single_line_audio, displayed_text])\n",
        "\n",
        "    # Full dialogue playback\n",
        "    with gr.Row():\n",
        "        generate_full_button = gr.Button(\"Generate Full Dialogue Audio\")\n",
        "        full_audio_output = gr.Audio(type=\"filepath\", label=\"Full Dialogue Audio\")\n",
        "\n",
        "        def generate_and_combine():\n",
        "            audio_files = generate_full_dialogue()\n",
        "            combined_audio_path = combine_audio_files(audio_files)\n",
        "            return combined_audio_path\n",
        "\n",
        "        generate_full_button.click(generate_and_combine, outputs=[full_audio_output])\n",
        "\n",
        "demo.launch()\n"
      ],
      "metadata": {
        "id": "79bpX-6RQaLl"
      },
      "execution_count": null,
      "outputs": []
    }
  ]
}