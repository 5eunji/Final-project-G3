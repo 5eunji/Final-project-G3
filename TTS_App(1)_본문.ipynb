{
  "nbformat": 4,
  "nbformat_minor": 0,
  "metadata": {
    "colab": {
      "private_outputs": true,
      "provenance": [],
      "gpuType": "T4",
      "include_colab_link": true
    },
    "kernelspec": {
      "name": "python3",
      "display_name": "Python 3"
    },
    "language_info": {
      "name": "python"
    },
    "accelerator": "GPU"
  },
  "cells": [
    {
      "cell_type": "markdown",
      "metadata": {
        "id": "view-in-github",
        "colab_type": "text"
      },
      "source": [
        "<a href=\"https://colab.research.google.com/github/5eunji/Final-project-G3/blob/main/TTS_App(1)_%EB%B3%B8%EB%AC%B8.ipynb\" target=\"_parent\"><img src=\"https://colab.research.google.com/assets/colab-badge.svg\" alt=\"Open In Colab\"/></a>"
      ]
    },
    {
      "cell_type": "markdown",
      "source": [
        "# **While-Listening Activity: Learning New Words**\n",
        "## 2. Gradio TTS App"
      ],
      "metadata": {
        "id": "ALOfAcx5Mho_"
      }
    },
    {
      "cell_type": "code",
      "source": [
        "!pip install gradio\n",
        "!pip install gtts\n",
        "!pip install SpeechRecognition\n",
        "\n",
        "import gradio as gr\n",
        "from gtts import gTTS\n",
        "import speech_recognition as sr\n",
        "from difflib import SequenceMatcher\n",
        "import tempfile\n",
        "import os\n",
        "\n",
        "# Define your sentences here\n",
        "sents = [\n",
        "    \"Many years ago, in the city of Verona, Italy, there were two families, the Montagues and the Capulets. These two families were always battling and did not like each other.\",\n",
        "    \"One day, Romeo Montague secretly attended a Capulet party. There, he saw Juliet Capulet and instantly fell in love. However, their love was in danger because of their families’ feud.\",\n",
        "    \"After the party, Romeo went to Juliet’s window. Juliet stood at her window, whispering, 'Oh Romeo, Romeo! Where are you Romeo? Give up your family name, or if you won't, just promise to love me, and I'll give up being a Capulet.'\",\n",
        "    \"Below Juliet's window, Romeo stood in the shadows of a wall. He looked up at her, his heart beating fast. Romeo and Juliet promised to marry in secret and expressed their love for each other.\",\n",
        "    \"Despite their love, the feud between their families grew worse. Their story is one of love, tragedy, and heartbreak.\"\n",
        "]\n",
        "\n",
        "def text_to_speech(selected_sentence, language):\n",
        "    tld = 'co.uk' if language == \"British English\" else 'com'\n",
        "\n",
        "    sn = int(selected_sentence.split(\".\")[0])  # Extract the sentence number\n",
        "    mytext = sents[sn - 1]  # Get the selected sentence\n",
        "\n",
        "    tts = gTTS(text=mytext, lang='en', tld=tld, slow=False)\n",
        "    filename = 'output.mp3'\n",
        "    tts.save(filename)\n",
        "    return filename\n",
        "\n",
        "def recognize_speech_from_microphone(audio_path):\n",
        "    recognizer = sr.Recognizer()\n",
        "    try:\n",
        "        with sr.AudioFile(audio_path) as source:\n",
        "            audio_data = recognizer.record(source)\n",
        "            text = recognizer.recognize_google(audio_data)\n",
        "            return text\n",
        "    except sr.UnknownValueError:\n",
        "        return \"Could not understand the audio\"\n",
        "    except sr.RequestError as e:\n",
        "        return f\"Could not request results from Google Speech Recognition service; {e}\"\n",
        "    except Exception as e:\n",
        "        return str(e)\n",
        "\n",
        "def calculate_similarity(original_text, recognized_text):\n",
        "    return SequenceMatcher(None, original_text.lower(), recognized_text.lower()).ratio() * 100\n",
        "\n",
        "def process_audio(selected_sentence, audio_path):\n",
        "    sn = int(selected_sentence.split(\".\")[0])  # Extract the sentence number\n",
        "    original_text = sents[sn - 1]  # Get the selected sentence\n",
        "    recognized_text = recognize_speech_from_microphone(audio_path)\n",
        "    if \"Error\" in recognized_text or \"Could not\" in recognized_text:\n",
        "        return recognized_text, 0.0\n",
        "    similarity = calculate_similarity(original_text, recognized_text)\n",
        "    return recognized_text, similarity\n",
        "\n",
        "def display_sentence(selected_sentence):\n",
        "    sn = int(selected_sentence.split(\".\")[0])\n",
        "    return sents[sn - 1]\n",
        "\n",
        "with gr.Blocks() as demo:\n",
        "    with gr.Row():\n",
        "        with gr.Column():\n",
        "            gr.Markdown(\"### Text-to-Speech Converter\")\n",
        "            dropdown_sentences = gr.Dropdown(choices=[f\"{i}. {sents[i-1]}\" for i in range(1, len(sents) + 1)], label=\"Select Sentence\")\n",
        "            radio_language = gr.Radio(choices=['American English', 'British English'], label=\"Language\")\n",
        "            generate_tts_button = gr.Button(\"Generate Speech\")\n",
        "            tts_audio_output = gr.Audio(type=\"filepath\", label=\"Output Audio\")\n",
        "            generate_tts_button.click(text_to_speech, inputs=[dropdown_sentences, radio_language], outputs=tts_audio_output)\n",
        "            selected_sentence_display = gr.Textbox(label=\"Selected Sentence\", interactive=False)\n",
        "            dropdown_sentences.change(display_sentence, inputs=dropdown_sentences, outputs=selected_sentence_display)\n",
        "\n",
        "    with gr.Row():\n",
        "        with gr.Column():\n",
        "            gr.Markdown(\"### Pronunciation Evaluator\")\n",
        "            mic_input = gr.Audio(label=\"Your Pronunciation\", type=\"filepath\")\n",
        "            result_button = gr.Button(\"Evaluate Pronunciation\")\n",
        "            recognized_text = gr.Textbox(label=\"Recognized Text\")\n",
        "            similarity_score = gr.Number(label=\"Similarity (%)\")\n",
        "\n",
        "            result_button.click(process_audio, inputs=[dropdown_sentences, mic_input], outputs=[recognized_text, similarity_score])\n",
        "\n",
        "demo.launch()\n"
      ],
      "metadata": {
        "id": "79bpX-6RQaLl"
      },
      "execution_count": null,
      "outputs": []
    }
  ]
}